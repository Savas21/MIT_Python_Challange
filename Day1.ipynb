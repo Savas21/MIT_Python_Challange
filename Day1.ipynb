{
 "cells": [
  {
   "cell_type": "code",
   "execution_count": 8,
   "metadata": {},
   "outputs": [
    {
     "data": {
      "text/plain": [
       "(int, float, bool, NoneType, str, str)"
      ]
     },
     "execution_count": 8,
     "metadata": {},
     "output_type": "execute_result"
    }
   ],
   "source": [
    "#Types in python \n",
    "type(3), type(3.0), type(True), type(None),type(\"savas\"),type(\"1\")"
   ]
  },
  {
   "cell_type": "code",
   "execution_count": 9,
   "metadata": {},
   "outputs": [
    {
     "name": "stdout",
     "output_type": "stream",
     "text": [
      "<class 'str'> single qoute is the same as double qoute <class 'str'>\n"
     ]
    }
   ],
   "source": [
    "print ( type('1') ,\"single qoute is the same as double qoute\" , type(\"1\"))"
   ]
  },
  {
   "cell_type": "code",
   "execution_count": 10,
   "metadata": {},
   "outputs": [
    {
     "data": {
      "text/plain": [
       "5"
      ]
     },
     "execution_count": 10,
     "metadata": {},
     "output_type": "execute_result"
    }
   ],
   "source": [
    "##Expression \n",
    "3 + 2\n"
   ]
  },
  {
   "cell_type": "code",
   "execution_count": 11,
   "metadata": {},
   "outputs": [
    {
     "data": {
      "text/plain": [
       "1.5"
      ]
     },
     "execution_count": 11,
     "metadata": {},
     "output_type": "execute_result"
    }
   ],
   "source": [
    "3/2"
   ]
  },
  {
   "cell_type": "code",
   "execution_count": 12,
   "metadata": {},
   "outputs": [
    {
     "data": {
      "text/plain": [
       "1.5"
      ]
     },
     "execution_count": 12,
     "metadata": {},
     "output_type": "execute_result"
    }
   ],
   "source": [
    "3/2.0\n"
   ]
  },
  {
   "cell_type": "code",
   "execution_count": 13,
   "metadata": {},
   "outputs": [
    {
     "data": {
      "text/plain": [
       "'ab'"
      ]
     },
     "execution_count": 13,
     "metadata": {},
     "output_type": "execute_result"
    }
   ],
   "source": [
    "#Concatination = overloaded operators have a meaning that depends upon of operands\n",
    "\"a\"+\"b\""
   ]
  },
  {
   "cell_type": "code",
   "execution_count": 14,
   "metadata": {},
   "outputs": [
    {
     "ename": "SyntaxError",
     "evalue": "invalid syntax (<ipython-input-14-ae2e0cd7069d>, line 2)",
     "output_type": "error",
     "traceback": [
      "\u001b[0;36m  File \u001b[0;32m\"<ipython-input-14-ae2e0cd7069d>\"\u001b[0;36m, line \u001b[0;32m2\u001b[0m\n\u001b[0;31m    3 3\u001b[0m\n\u001b[0m      ^\u001b[0m\n\u001b[0;31mSyntaxError\u001b[0m\u001b[0;31m:\u001b[0m invalid syntax\n"
     ]
    }
   ],
   "source": [
    "#syntax error \n",
    "3 3\n"
   ]
  },
  {
   "cell_type": "code",
   "execution_count": 15,
   "metadata": {},
   "outputs": [
    {
     "ename": "TypeError",
     "evalue": "must be str, not int",
     "output_type": "error",
     "traceback": [
      "\u001b[0;31m---------------------------------------------------------------------------\u001b[0m",
      "\u001b[0;31mTypeError\u001b[0m                                 Traceback (most recent call last)",
      "\u001b[0;32m<ipython-input-15-56129b237012>\u001b[0m in \u001b[0;36m<module>\u001b[0;34m()\u001b[0m\n\u001b[1;32m      1\u001b[0m \u001b[0;31m#Static semantic error(typeError)\u001b[0m\u001b[0;34m\u001b[0m\u001b[0;34m\u001b[0m\u001b[0m\n\u001b[0;32m----> 2\u001b[0;31m \u001b[0;34m\"a\"\u001b[0m\u001b[0;34m+\u001b[0m\u001b[0;36m3\u001b[0m\u001b[0;34m\u001b[0m\u001b[0m\n\u001b[0m",
      "\u001b[0;31mTypeError\u001b[0m: must be str, not int"
     ]
    }
   ],
   "source": [
    "#Static semantic error(typeError)\n",
    "\"a\"+3"
   ]
  },
  {
   "cell_type": "code",
   "execution_count": 16,
   "metadata": {},
   "outputs": [
    {
     "data": {
      "text/plain": [
       "('a3', 'a3', 3, 2)"
      ]
     },
     "execution_count": 16,
     "metadata": {},
     "output_type": "execute_result"
    }
   ],
   "source": [
    "#conversion function  \n",
    "\"a3\", \"a\"+str(3) , int(\"3\") ,int(2.1)"
   ]
  },
  {
   "cell_type": "code",
   "execution_count": 17,
   "metadata": {},
   "outputs": [
    {
     "ename": "ValueError",
     "evalue": "invalid literal for int() with base 10: '.0'",
     "output_type": "error",
     "traceback": [
      "\u001b[0;31m---------------------------------------------------------------------------\u001b[0m",
      "\u001b[0;31mValueError\u001b[0m                                Traceback (most recent call last)",
      "\u001b[0;32m<ipython-input-17-ab697631cb68>\u001b[0m in \u001b[0;36m<module>\u001b[0;34m()\u001b[0m\n\u001b[0;32m----> 1\u001b[0;31m \u001b[0mint\u001b[0m\u001b[0;34m(\u001b[0m\u001b[0;34m\".0\"\u001b[0m\u001b[0;34m)\u001b[0m\u001b[0;34m\u001b[0m\u001b[0m\n\u001b[0m",
      "\u001b[0;31mValueError\u001b[0m: invalid literal for int() with base 10: '.0'"
     ]
    }
   ],
   "source": [
    "int(\".0\")"
   ]
  },
  {
   "cell_type": "code",
   "execution_count": 18,
   "metadata": {},
   "outputs": [
    {
     "data": {
      "text/plain": [
       "9"
      ]
     },
     "execution_count": 18,
     "metadata": {},
     "output_type": "execute_result"
    }
   ],
   "source": [
    "#assignment statements. \n",
    "#variable simply is a name for an object \n",
    "x = 3\n",
    "x = x*x\n",
    "\n",
    "x"
   ]
  },
  {
   "cell_type": "code",
   "execution_count": 20,
   "metadata": {},
   "outputs": [
    {
     "name": "stdout",
     "output_type": "stream",
     "text": [
      "Enter a integer : 10\n",
      "10\n",
      "100\n",
      "<class 'int'>\n"
     ]
    }
   ],
   "source": [
    "#Straigth line programs?\n",
    "# two kinds of input statement raw_input and input\n",
    "y = int(input(\"Enter a integer : \"))\n",
    "print(y)\n",
    "print(y*y)\n",
    "print(type(y))"
   ]
  },
  {
   "cell_type": "code",
   "execution_count": 26,
   "metadata": {},
   "outputs": [
    {
     "name": "stdout",
     "output_type": "stream",
     "text": [
      "Enter a number : 13\n",
      "odd\n",
      "13 not divisible by 3\n"
     ]
    }
   ],
   "source": [
    "#Conditional statements\n",
    "#branching and sub branching programs\n",
    "\n",
    "x = int(input(\"Enter a number : \"))\n",
    "if x%2 == 0:\n",
    "    print(\"even\")\n",
    "else:\n",
    "    print(\"odd\")\n",
    "    if x%3 != 0:\n",
    "        print(x ,\"not divisible by 3\")"
   ]
  },
  {
   "cell_type": "code",
   "execution_count": 33,
   "metadata": {},
   "outputs": [
    {
     "name": "stdout",
     "output_type": "stream",
     "text": [
      "Enter x: 30\n",
      "Enter y: 40\n",
      "Enter z: 20\n",
      "z is least\n"
     ]
    }
   ],
   "source": [
    "x = int(input(\"Enter x: \"))\n",
    "y = int(input(\"Enter y: \"))\n",
    "z = int(input(\"Enter z: \"))\n",
    "\n",
    "if x < y:\n",
    "    if x<z:\n",
    "        print(\"x is least\")\n",
    "    else:\n",
    "        print(\"z is least\")\n",
    "else:\n",
    "    print(\"y is least\")"
   ]
  },
  {
   "cell_type": "code",
   "execution_count": 54,
   "metadata": {},
   "outputs": [
    {
     "name": "stdout",
     "output_type": "stream",
     "text": [
      "Enter an integer: -10\n",
      "current guess = 1\n",
      "current guess = 2\n",
      "current guess = 3\n",
      "last guess =  3\n",
      "ans*ans*ans ans =  27\n",
      "you entered negative number\n",
      "-10 is not a perfect cube\n",
      "Cube root of -10 is 3\n"
     ]
    }
   ],
   "source": [
    "#looping(iteraiton)\n",
    "#Find the cube root of a perfect cube\n",
    "\n",
    "x = int(input('Enter an integer: '))\n",
    "ans = 0 \n",
    "\n",
    "while ans*ans*ans < abs(x):\n",
    "    ans = ans + 1\n",
    "    print ('current guess =', ans)\n",
    "print(\"last guess = \", ans)\n",
    "print(\"ans*ans*ans ans = \" ,ans*ans*ans)\n",
    "if ans*ans*ans != abs(x):\n",
    "    print(\"you entered negative number\")\n",
    "    print (x, 'is not a perfect cube')\n",
    "elif x<0:\n",
    "    ans= -ans\n",
    "print ('Cube root of ' + str(x) + ' is ' + str(ans))"
   ]
  },
  {
   "cell_type": "code",
   "execution_count": 59,
   "metadata": {},
   "outputs": [
    {
     "name": "stdout",
     "output_type": "stream",
     "text": [
      "Enter an integer: 27\n",
      "last guess =  3\n",
      "ans*ans*ans ans =  27\n",
      "Cube root of 27 is 3\n"
     ]
    }
   ],
   "source": [
    "#with less coding \n",
    "\n",
    "x = int(input('Enter an integer: '))\n",
    "ans = 0 \n",
    "\n",
    "while ans*ans*ans < abs(x):\n",
    "    ans = ans + 1\n",
    "    #print ('current guess =', ans)\n",
    "print(\"last guess = \", ans)\n",
    "print(\"ans*ans*ans ans = \" ,ans*ans*ans)\n",
    "\n",
    "if ans*ans*ans ==abs(x):\n",
    "    if x < 0:\n",
    "        ans = -ans \n",
    "    print ('Cube root of ' + str(x) + ' is ' + str(ans))\n",
    "else:\n",
    "    print(x , \"is not a perfect cube\")"
   ]
  },
  {
   "cell_type": "code",
   "execution_count": 65,
   "metadata": {},
   "outputs": [
    {
     "name": "stdout",
     "output_type": "stream",
     "text": [
      "Buzz\n",
      "4\n",
      "Buzz\n",
      "4\n",
      "Fizz\n",
      "4\n",
      "Fizz\n",
      "4\n",
      "Buzz\n",
      "4\n",
      "Fizz\n",
      "4\n",
      "Fizz\n",
      "4\n",
      "Fizz\n",
      "4\n",
      "Fizz\n",
      "4\n",
      "Buzz\n",
      "4\n",
      "Buzz\n",
      "4\n",
      "Fizz\n",
      "4\n",
      "Fizz\n",
      "4\n",
      "Fizz\n",
      "4\n",
      "FizzBuzz\n",
      "8\n",
      "FizzBuzz\n",
      "8\n",
      "FizzBuzz\n",
      "8\n",
      "Fizz\n",
      "4\n",
      "Fizz\n",
      "4\n",
      "Buzz\n",
      "4\n",
      "Fizz\n",
      "4\n",
      "Fizz\n",
      "4\n",
      "Fizz\n",
      "4\n",
      "Fizz\n",
      "4\n",
      "Buzz\n",
      "4\n",
      "Buzz\n",
      "4\n",
      "Fizz\n",
      "4\n",
      "Fizz\n",
      "4\n",
      "Fizz\n",
      "4\n",
      "FizzBuzz\n",
      "8\n",
      "FizzBuzz\n",
      "8\n",
      "FizzBuzz\n",
      "8\n",
      "Fizz\n",
      "4\n",
      "Fizz\n",
      "4\n",
      "Buzz\n",
      "4\n",
      "Fizz\n",
      "4\n",
      "Fizz\n",
      "4\n",
      "Fizz\n",
      "4\n",
      "Fizz\n",
      "4\n",
      "Buzz\n",
      "4\n",
      "Buzz\n",
      "4\n",
      "Fizz\n",
      "4\n",
      "Fizz\n",
      "4\n",
      "Fizz\n",
      "4\n",
      "FizzBuzz\n",
      "8\n",
      "FizzBuzz\n",
      "8\n",
      "FizzBuzz\n",
      "8\n",
      "Fizz\n",
      "4\n",
      "Fizz\n",
      "4\n",
      "Buzz\n",
      "4\n",
      "Fizz\n",
      "4\n",
      "Fizz\n",
      "4\n",
      "Fizz\n",
      "4\n",
      "Fizz\n",
      "4\n",
      "Buzz\n",
      "4\n",
      "Buzz\n",
      "4\n",
      "Fizz\n",
      "4\n",
      "Fizz\n",
      "4\n",
      "Fizz\n",
      "4\n",
      "FizzBuzz\n",
      "8\n",
      "FizzBuzz\n",
      "8\n",
      "FizzBuzz\n",
      "8\n",
      "Fizz\n",
      "4\n",
      "Fizz\n",
      "4\n",
      "Buzz\n",
      "4\n",
      "Fizz\n",
      "4\n",
      "Fizz\n",
      "4\n",
      "Fizz\n",
      "4\n",
      "Fizz\n",
      "4\n",
      "Buzz\n",
      "4\n",
      "Buzz\n",
      "4\n",
      "Fizz\n",
      "4\n",
      "Fizz\n",
      "4\n",
      "Fizz\n",
      "4\n",
      "FizzBuzz\n",
      "8\n",
      "FizzBuzz\n",
      "8\n",
      "FizzBuzz\n",
      "8\n",
      "Fizz\n",
      "4\n",
      "Fizz\n",
      "4\n",
      "Buzz\n",
      "4\n",
      "Fizz\n",
      "4\n",
      "Fizz\n",
      "4\n",
      "Fizz\n",
      "4\n",
      "Fizz\n",
      "4\n",
      "Buzz\n",
      "4\n",
      "Buzz\n",
      "4\n",
      "Fizz\n",
      "4\n",
      "Fizz\n",
      "4\n",
      "Fizz\n",
      "4\n",
      "FizzBuzz\n",
      "8\n",
      "FizzBuzz\n",
      "8\n",
      "FizzBuzz\n",
      "8\n",
      "Fizz\n",
      "4\n",
      "Fizz\n",
      "4\n",
      "Buzz\n",
      "4\n",
      "Fizz\n",
      "4\n",
      "Fizz\n",
      "4\n",
      "Fizz\n",
      "4\n",
      "Fizz\n",
      "4\n",
      "Buzz\n",
      "4\n"
     ]
    }
   ],
   "source": [
    "#Write a program that prints the numbers form 1 to 100. But for\n",
    "#multiples of three prin \"Fizz\" instead of the number and for the \n",
    "#multiples of five print \"Buzz\". For the numbers which are multiples\n",
    "#bot three adn five print \"FizzBuzz\"\n",
    "\n",
    "for i in range(1,101):\n",
    "    #s = str(i)\n",
    "    if i % 3 == 0 or i % 5 == 0:\n",
    "        s= \"\"\n",
    "        if i%3==0:\n",
    "            s= s +\"Fizz\"\n",
    "        if i%5==0:\n",
    "            s= s + \"Buzz\"\n",
    "    print(s)\n",
    "    \n",
    "            \n",
    "            \n",
    "        "
   ]
  },
  {
   "cell_type": "code",
   "execution_count": null,
   "metadata": {},
   "outputs": [],
   "source": []
  }
 ],
 "metadata": {
  "kernelspec": {
   "display_name": "Python 3",
   "language": "python",
   "name": "python3"
  },
  "language_info": {
   "codemirror_mode": {
    "name": "ipython",
    "version": 3
   },
   "file_extension": ".py",
   "mimetype": "text/x-python",
   "name": "python",
   "nbconvert_exporter": "python",
   "pygments_lexer": "ipython3",
   "version": "3.6.4"
  }
 },
 "nbformat": 4,
 "nbformat_minor": 2
}
