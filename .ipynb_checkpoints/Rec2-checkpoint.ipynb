{
 "cells": [
  {
   "cell_type": "markdown",
   "metadata": {},
   "source": [
    "# While loop\n",
    "What is the decrementing function?\n",
    "What does this loop do?\n",
    "What is while loop?\n",
    "Prints even numbers from 2 to 10"
   ]
  },
  {
   "cell_type": "code",
   "execution_count": 1,
   "metadata": {},
   "outputs": [
    {
     "name": "stdout",
     "output_type": "stream",
     "text": [
      "4\n",
      "6\n",
      "8\n",
      "10\n",
      "12\n",
      "---------------------\n",
      "3\n",
      "5\n",
      "7\n",
      "9\n",
      "11\n"
     ]
    }
   ],
   "source": [
    "\n",
    "a = 2\n",
    "while (a <= 10) :\n",
    "    a += 2\n",
    "    print (a)\n",
    "\n",
    "print(\"---------------------\")\n",
    "\n",
    "# you can make variable name a little bit explicit\n",
    "odd_number = 1\n",
    "while (odd_number <= 10):\n",
    "     odd_number += 2\n",
    "     print(odd_number)\n"
   ]
  },
  {
   "cell_type": "markdown",
   "metadata": {},
   "source": [
    "# For loop\n"
   ]
  },
  {
   "cell_type": "code",
   "execution_count": 2,
   "metadata": {},
   "outputs": [
    {
     "name": "stdout",
     "output_type": "stream",
     "text": [
      "[2]\n",
      "[2, 4]\n",
      "[2, 4, 6]\n",
      "[2, 4, 6, 8]\n",
      "[2, 4, 6, 8, 10]\n"
     ]
    }
   ],
   "source": [
    "l =[]\n",
    "for i in (2,4,6,8,10):\n",
    "    l.append(i)\n",
    "    print(l)\n",
    "### Kind of inconvenient"
   ]
  },
  {
   "cell_type": "markdown",
   "metadata": {},
   "source": [
    "# Range Function\n",
    "First paratmeter is inclusive and second parameter is exclusive"
   ]
  },
  {
   "cell_type": "code",
   "execution_count": 3,
   "metadata": {},
   "outputs": [
    {
     "name": "stdout",
     "output_type": "stream",
     "text": [
      "range(0, 100)\n",
      "range(1, 100)\n",
      "range(1, 100, 2)\n",
      "range(100, 1, -1)\n",
      "5\n",
      "4\n",
      "3\n",
      "2\n",
      "1\n"
     ]
    }
   ],
   "source": [
    "print(range(100))\n",
    "print(range(1,100))\n",
    "print(range(1,100,2))\n",
    "print(range(100,1,-1))\n",
    "\n",
    "for i in range(5,0,-1):\n",
    "    print(i)\n"
   ]
  },
  {
   "cell_type": "markdown",
   "metadata": {},
   "source": [
    "# Tuples"
   ]
  },
  {
   "cell_type": "code",
   "execution_count": 4,
   "metadata": {},
   "outputs": [
    {
     "name": "stdout",
     "output_type": "stream",
     "text": [
      "3.1432\n",
      "What\n",
      "240\n",
      "?\n",
      "There are 6 elements \n",
      "Tuples can hold different data types such as; (3.42, 'is ', 'an imperfect', 'representation')\n",
      "Including other tuples (('stuff', 'just'), 'got', 'real')\n"
     ]
    }
   ],
   "source": [
    "tuple_of_numbers = (3.1432, 1, 2, -100,100,240)\n",
    "tuple_of_strings = (\"What\", \"is\", \"tuples\", \"?\")\n",
    "\n",
    "print(tuple_of_numbers[0])\n",
    "print(tuple_of_strings[0])\n",
    "print(tuple_of_numbers[-1])\n",
    "print(tuple_of_strings[-1])\n",
    "\n",
    "#how many elements in the tuple\n",
    "print(\"There are\" ,len(tuple_of_numbers), \"elements \")\n",
    "\n",
    "#tuples can hold different data types\n",
    "tuple_of_numbers_and_strings =(3.42, \"is \", \"an imperfect\",\"representation\")\n",
    "print(\"Tuples can hold different data types such as;\", tuple_of_numbers_and_strings)\n",
    "\n",
    "#including other tuples\n",
    "tuple_of_tuples = ((\"stuff\",\"just\"), \"got\",\"real\")\n",
    "print(\"Including other tuples\",tuple_of_tuples)\n",
    "\n",
    "## Can't do this : Immutable\n",
    "#tuple_of_number[0] = 3\n",
    "\n"
   ]
  },
  {
   "cell_type": "code",
   "execution_count": 5,
   "metadata": {},
   "outputs": [
    {
     "name": "stdout",
     "output_type": "stream",
     "text": [
      "(3.1432, 1, 2, -100, 100, 240)\n",
      "prints from index 1 to 3 : (1, 2)\n",
      "prints from index 0 to 2 : (3.1432, 1)\n",
      "prints from index 1 to the end : (1, 2, -100, 100, 240)\n",
      "prints entire tuples : (3.1432, 1, 2, -100, 100, 240)\n",
      "prints from index 0 to last index : (3.1432, 1, 2, -100, 100)\n",
      "3.1432\n",
      "1\n",
      "2\n",
      "-100\n",
      "100\n",
      "240\n",
      "Before:  (3.1432, 1, 2, -100, 100, 240)\n",
      "After :  (3.1432, 1, 2, -100, 100, 240, 100, 20)\n",
      "<class 'int'>\n",
      "<class 'tuple'>\n"
     ]
    }
   ],
   "source": [
    "# Slice (but not dice)\n",
    "print(tuple_of_numbers)\n",
    "print(\"prints from index 1 to 3 :\",tuple_of_numbers[1:3])\n",
    "print(\"prints from index 0 to 2 :\",tuple_of_numbers[:2])\n",
    "print(\"prints from index 1 to the end :\",tuple_of_numbers[1:])\n",
    "print(\"prints entire tuples :\",tuple_of_numbers[:])\n",
    "print(\"prints from index 0 to last index :\",tuple_of_numbers[:-1])\n",
    "\n",
    "# İterate over\n",
    "for number in tuple_of_numbers:\n",
    "    print(number)\n",
    "    \n",
    "# Oddity\n",
    "# are tuples really immutable? if yes, how the code below worked?\n",
    "print(\"Before: \",tuple_of_numbers)\n",
    "tuple_of_numbers= tuple_of_numbers +(100,20)\n",
    "print(\"After : \", tuple_of_numbers)\n",
    "\n",
    "# Wart\n",
    "## Which one is tuple?\n",
    "oopsie = (50)\n",
    "onsie =(50,)\n",
    "print(type(oopsie))\n",
    "print(type(onsie))"
   ]
  },
  {
   "cell_type": "markdown",
   "metadata": {},
   "source": [
    "# Strings!"
   ]
  },
  {
   "cell_type": "code",
   "execution_count": 6,
   "metadata": {},
   "outputs": [
    {
     "name": "stdout",
     "output_type": "stream",
     "text": [
      "Yavuz\n"
     ]
    }
   ],
   "source": [
    "name = \"Yavuz\"\n",
    "#print(name)\n",
    "#print(name[0])\n",
    "#print(name[1])\n",
    "\n",
    "### 'str' object does not support item assignment\n",
    "#name[0]=\"P\" #Wrong\n",
    "\n",
    "### iterate over a string\n",
    "#for i in name:\n",
    "#    print(i)\n",
    "\n",
    "## Slice\n",
    "print(name[:])"
   ]
  },
  {
   "cell_type": "markdown",
   "metadata": {},
   "source": [
    "# Strings Functions\n"
   ]
  },
  {
   "cell_type": "code",
   "execution_count": 7,
   "metadata": {},
   "outputs": [
    {
     "name": "stdout",
     "output_type": "stream",
     "text": [
      "Upper func. changes the string uppercase such as : YAVUZ\n",
      "Lower func. changes the string lowercase such as : yavuz\n",
      "Find func. find the index of given string such as : 2\n",
      "Find func. find the index of given string such as : 1\n",
      "Replace func. replace the index of given string such as : Tavuz\n",
      "Savuz\n",
      "yavuz\n",
      "Help on method_descriptor:\n",
      "\n",
      "replace(...)\n",
      "    S.replace(old, new[, count]) -> str\n",
      "    \n",
      "    Return a copy of S with all occurrences of substring\n",
      "    old replaced by new.  If the optional argument count is\n",
      "    given, only the first count occurrences are replaced.\n",
      "\n"
     ]
    }
   ],
   "source": [
    "print(\"Upper func. changes the string uppercase such as :\",name.upper())\n",
    "print(\"Lower func. changes the string lowercase such as :\",name.lower())\n",
    "print(\"Find func. find the index of given string such as :\",name.find(\"v\"))\n",
    "print(\"Find func. find the index of given string such as :\",name.find(\"avuz\"))\n",
    "# This does not modify the variable\n",
    "print(\"Replace func. replace the index of given string such as :\",name.replace('Y',\"T\"))\n",
    "\n",
    "name= name.replace(\"Y\",\"S\")\n",
    "print(name)\n",
    "print(name.lower().replace(\"s\",\"y\"))\n",
    "# For more string function check this out \n",
    "#dir(str)\n",
    "help(str.replace)\n"
   ]
  },
  {
   "cell_type": "markdown",
   "metadata": {},
   "source": [
    "# Example of using break function\n"
   ]
  },
  {
   "cell_type": "code",
   "execution_count": 13,
   "metadata": {},
   "outputs": [
    {
     "name": "stdout",
     "output_type": "stream",
     "text": [
      "Enter an integer: 10\n",
      "current guess = 1\n",
      "current guess = 2\n",
      "current guess = 3\n",
      "10 is not perfect cube\n"
     ]
    }
   ],
   "source": [
    "# write a cube root program using while loop\n",
    "x = int(input(\"Enter an integer: \"))\n",
    "ans = 0\n",
    "while ans*ans*ans < abs(x):\n",
    "    ans += 1\n",
    "    print(\"current guess =\",ans)\n",
    "if ans*ans*ans !=abs(x):\n",
    "    print(x ,\"is not perfect cube\")\n",
    "else:\n",
    "    if x<0:\n",
    "        ans = -ans\n",
    "    print(\"cube root of \",str(x), \"is\",str(ans))"
   ]
  },
  {
   "cell_type": "code",
   "execution_count": 12,
   "metadata": {},
   "outputs": [
    {
     "name": "stdout",
     "output_type": "stream",
     "text": [
      "Enter an integer: 27\n",
      "current guess:  1\n",
      "current guess:  2\n",
      "current guess:  3\n",
      "cube root of  27 is 3\n"
     ]
    }
   ],
   "source": [
    "# Rewrite cube root program with break func\n",
    "x = int(input(\"Enter an integer: \"))\n",
    "\n",
    "for ans in range(1,abs(x)+1):\n",
    "    print(\"current guess: \",ans)\n",
    "    if ans**3 == abs(x):\n",
    "        break\n",
    "if ans**3 !=abs(x):\n",
    "    print(x ,\"is not perfect cube\")\n",
    "else:\n",
    "    if x<0:\n",
    "        ans = -ans\n",
    "    print(\"cube root of \",str(x), \"is\",str(ans))\n",
    "        "
   ]
  },
  {
   "cell_type": "code",
   "execution_count": 18,
   "metadata": {},
   "outputs": [
    {
     "name": "stdout",
     "output_type": "stream",
     "text": [
      "0 10\n",
      "1 10\n",
      "2 10\n",
      "3 10\n",
      "4 10\n",
      "5 10\n",
      "6 10\n",
      "7 10\n",
      "8 10\n",
      "9 10\n",
      "Here!\n"
     ]
    }
   ],
   "source": [
    "# Example of inner and outer loop\n",
    "for i in range(0,10):\n",
    "    for j in range(10,100):\n",
    "        print(i,j)\n",
    "        if j % 2 ==0:\n",
    "            break\n",
    "print(\"Here!\")"
   ]
  },
  {
   "cell_type": "markdown",
   "metadata": {},
   "source": [
    "# FUNCTIONS\n",
    "Funtions are ways of documenting your code."
   ]
  },
  {
   "cell_type": "code",
   "execution_count": 39,
   "metadata": {},
   "outputs": [
    {
     "name": "stdout",
     "output_type": "stream",
     "text": [
      "10\n"
     ]
    }
   ],
   "source": [
    "#def cube(number):\n",
    "    #\"\"\" Takes a number and returns the cube root of that number\n",
    "    #Input: number(float or int)\n",
    "    #Output: number(float)\"\"\"\n",
    "   #return number**3\n",
    "#print(cube(3))\n",
    "#print(cube(5))\n",
    "\n",
    "\n",
    "def times2(number):\n",
    "    \"\"\"Takes a number and doubles it\n",
    "    Input: number(float or int)\n",
    "    Output: number(float)\"\"\"\n",
    "    return number*2\n",
    "    \n",
    "times2(5)\n",
    "print(times2(5))"
   ]
  },
  {
   "cell_type": "code",
   "execution_count": 42,
   "metadata": {
    "scrolled": true
   },
   "outputs": [
    {
     "name": "stdout",
     "output_type": "stream",
     "text": [
      "parameter passed into the function: Somebody set up the bomb\n",
      "Global variable: Here be dragons\n",
      "Local variable: Make your time\n"
     ]
    }
   ],
   "source": [
    "# Global and local VAriable \n",
    "all_hope =\"Here be dragons\"\n",
    "\n",
    "def all_your_vars_are_belongs_to_us(variables):\n",
    "    \"\"\"Steals all your variables. \n",
    "    Input: variables(stuff)\n",
    "    Output : None (it is stolen)\n",
    "    \"\"\"\n",
    "    my_variable =\"Make your time\"\n",
    "    print(\"parameter passed into the function:\",variables)\n",
    "    print(\"Global variable:\", all_hope)\n",
    "    print(\"Local variable:\", my_variable)\n",
    "    \n",
    "old_name_is_old = \"Somebody set up the bomb\"\n",
    "all_your_vars_are_belongs_to_us(old_name_is_old)\n",
    "\n",
    "### What happens here?\n",
    "#print(my_variable)\n"
   ]
  },
  {
   "cell_type": "code",
   "execution_count": 54,
   "metadata": {},
   "outputs": [
    {
     "name": "stdout",
     "output_type": "stream",
     "text": [
      "11\n",
      "10\n"
     ]
    }
   ],
   "source": [
    "global_int = 0\n",
    "def inc_it(x):\n",
    "    ##try with and without it\n",
    "    global global_int\n",
    "    x = x+1\n",
    "    global_int = global_int + 1\n",
    "    \n",
    "    return x\n",
    "\n",
    "y = 10\n",
    "print(inc_it(y))\n",
    "print(y)\n",
    "    "
   ]
  },
  {
   "cell_type": "code",
   "execution_count": 63,
   "metadata": {},
   "outputs": [
    {
     "name": "stdout",
     "output_type": "stream",
     "text": [
      "This will return a string\n",
      "None\n",
      "This will return a string\n"
     ]
    },
    {
     "data": {
      "text/plain": [
       "'This will return a string'"
      ]
     },
     "execution_count": 63,
     "metadata": {},
     "output_type": "execute_result"
    }
   ],
   "source": [
    "## PRINT IS NOT RETURN \n",
    "def print_is_not_return():\n",
    "    print(\"This will return a string\")\n",
    "    \n",
    "def return_is_not_print():\n",
    "    return(\"This will return a string\")\n",
    "\n",
    "print(print_is_not_return())\n",
    "print(return_is_not_print())\n",
    "return_is_not_print()"
   ]
  },
  {
   "cell_type": "code",
   "execution_count": 67,
   "metadata": {},
   "outputs": [
    {
     "name": "stdout",
     "output_type": "stream",
     "text": [
      "<function cube at 0x10dbed400>\n",
      "125\n"
     ]
    }
   ],
   "source": [
    "print(cube)\n",
    "# YOU HAVE TO PUT PARENTHASES TO CALL THE FUNCTİONS\n",
    "print(cube(5))"
   ]
  },
  {
   "cell_type": "code",
   "execution_count": null,
   "metadata": {},
   "outputs": [],
   "source": []
  }
 ],
 "metadata": {
  "kernelspec": {
   "display_name": "Python 3",
   "language": "python",
   "name": "python3"
  },
  "language_info": {
   "codemirror_mode": {
    "name": "ipython",
    "version": 3
   },
   "file_extension": ".py",
   "mimetype": "text/x-python",
   "name": "python",
   "nbconvert_exporter": "python",
   "pygments_lexer": "ipython3",
   "version": "3.6.4"
  }
 },
 "nbformat": 4,
 "nbformat_minor": 2
}
